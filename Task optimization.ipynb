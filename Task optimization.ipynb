{
  "cells": [
    {
      "cell_type": "code",
      "execution_count": 3,
      "metadata": {
        "id": "KhxwN9b8tLe8"
      },
      "outputs": [],
      "source": [
        "import matplotlib.pyplot as plt\n",
        "import numpy as np\n",
        "\n",
        "import shutil\n",
        "import sys\n",
        "import os.path\n",
        "\n",
        "if not shutil.which(\"pyomo\"):\n",
        "    !pip install -q pyomo\n",
        "    assert(shutil.which(\"pyomo\"))\n",
        "\n",
        "if not (shutil.which(\"cbc\") or os.path.isfile(\"cbc\")):\n",
        "    if \"google.colab\" in sys.modules:\n",
        "        !apt-get install -y -qq coinor-cbc\n",
        "    else:\n",
        "        try:\n",
        "            !conda install -c conda-forge coincbc \n",
        "        except:\n",
        "            pass\n",
        "\n",
        "\n",
        "assert(shutil.which(\"cbc\") or os.path.isfile(\"cbc\"))\n",
        "from pyutilib.services import register_executable, registered_executable\n",
        "register_executable(name='glpsol')\n",
        "!apt-get install -y -qq glpk-utils\n",
        "!apt-get install -y -qq coinor-cbc\n",
        "from pyomo.environ import *"
      ]
    },
    {
      "cell_type": "code",
      "execution_count": null,
      "metadata": {
        "id": "oHFLdm3LtPs5"
      },
      "outputs": [],
      "source": [
        "from pyomo.environ import *\n",
        "\n",
        "MACHINES = ['A', 'B', 'C', 'D']\n",
        "PARTS = ['P1', 'P2', 'P3', 'P4']\n",
        "\n",
        "max_avail_hours = {'A': 60, 'B': 60, 'C': 50, 'D': 40}\n",
        "time_needed = {\n",
        "    ('A', 'P1'): 30, ('A', 'P2'): 20, ('A', 'P3'): 1000, ('A', 'P4'): 40,\n",
        "    ('B', 'P1'): 30, ('B', 'P2'): 30, ('B', 'P3'): 30, ('B', 'P4'): 1000,\n",
        "    ('C', 'P1'): 25, ('C', 'P2'): 25, ('C', 'P3'): 25, ('C', 'P4'): 25,\n",
        "    ('D', 'P1'): 1000, ('D', 'P2'): 1000, ('D', 'P3'): 40, ('D', 'P4'): 40\n",
        "}\n",
        "cost_per_hour = {'A': 300, 'B': 250, 'C': 350, 'D': 200}\n",
        "\n",
        "opt_model = ConcreteModel()\n",
        "\n",
        "opt_model.y = Var(MACHINES, PARTS, within=NonNegativeReals, initialize=0)\n",
        "\n",
        "# Define objective function\n",
        "opt_model.total_cost = Objective(expr=sum(cost_per_hour[m]*sum(opt_model.y[m, p]*time_needed[m, p] for p in PARTS) for m in MACHINES), sense=minimize)\n",
        "\n",
        "# Define constraints\n",
        "opt_model.machine_cons = ConstraintList()\n",
        "for m in MACHINES:\n",
        "    opt_model.machine_cons.add(sum(time_needed[m, p]*opt_model.y[m, p] for p in PARTS) <= max_avail_hours[m])\n",
        "\n",
        "opt_model.part_cons = ConstraintList()\n",
        "for p in PARTS:\n",
        "    opt_model.part_cons.add(sum(opt_model.y[m, p] for m in MACHINES) == 1)\n",
        "\n",
        "# Solve model\n",
        "solver_opt = SolverFactory('glpk')\n",
        "solver_opt.solve(opt_model)\n",
        "\n",
        "# Print results\n",
        "for m in MACHINES:\n",
        "    for p in PARTS:\n",
        "        print(f\"y[{m}, {p}] = {opt_model.y[m, p].value}\")\n",
        "\n",
        "print(f\"Minimum cost = {opt_model.total_cost()}\")\n"
      ]
    }
  ],
  "metadata": {
    "colab": {
      "provenance": []
    },
    "kernelspec": {
      "display_name": "Python 3",
      "name": "python3"
    },
    "language_info": {
      "name": "python"
    }
  },
  "nbformat": 4,
  "nbformat_minor": 0
}
